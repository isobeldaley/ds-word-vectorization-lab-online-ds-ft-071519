{
 "cells": [
  {
   "cell_type": "markdown",
   "metadata": {},
   "source": [
    "# Word Vectorization Lab\n",
    "\n",
    "## Problem Statement\n",
    "\n",
    "In this lab, we'll learn how totokenize and vectorize text documents, create an use a Bag of Words, and identify words unique to individual documents using TF-IDF Vectorization. \n",
    "\n",
    "## Objectives\n",
    "\n",
    "* Tokenize a corpus of words and identify the different choices to be made while parsing them. \n",
    "* Use a Count Vectorization strategy to create a Bag of Words\n",
    "* Use TF-IDF Vectorization with multiple documents to identify words that are important/unique to certain documents. \n",
    "\n",
    "\n",
    "\n",
    "Run the cell below to import everything necessary for this lab.  "
   ]
  },
  {
   "cell_type": "code",
   "execution_count": 1,
   "metadata": {},
   "outputs": [],
   "source": [
    "import pandas as pd\n",
    "import numpy as np\n",
    "from mpl_toolkits.mplot3d import Axes3D\n",
    "import matplotlib.pyplot as plt\n",
    "%matplotlib inline\n",
    "from sklearn.manifold import TSNE\n",
    "from nltk.tokenize import word_tokenize\n",
    "np.random.seed(0)"
   ]
  },
  {
   "cell_type": "markdown",
   "metadata": {},
   "source": [
    "### Our Corpus\n",
    "\n",
    "In this lab, we'll be working with 20 different documents, each containing song lyrics from either Garth Brooks or Kendrick Lamar albums.  \n",
    "\n",
    "The songs are contained within the `data` subdirectory, contained within the same folder as this lab.  Each song is stored in a single file, with files ranging from `song1.txt` to `song20.txt`.  \n",
    "\n",
    "To make it easy to read in all of the documents, use a list comprehension to create a list containing the name of every single song file in the cell below. "
   ]
  },
  {
   "cell_type": "code",
   "execution_count": 3,
   "metadata": {},
   "outputs": [
    {
     "data": {
      "text/plain": [
       "['song1.txt',\n",
       " 'song2.txt',\n",
       " 'song3.txt',\n",
       " 'song4.txt',\n",
       " 'song5.txt',\n",
       " 'song6.txt',\n",
       " 'song7.txt',\n",
       " 'song8.txt',\n",
       " 'song9.txt',\n",
       " 'song10.txt',\n",
       " 'song11.txt',\n",
       " 'song12.txt',\n",
       " 'song13.txt',\n",
       " 'song14.txt',\n",
       " 'song15.txt',\n",
       " 'song16.txt',\n",
       " 'song17.txt',\n",
       " 'song18.txt',\n",
       " 'song19.txt',\n",
       " 'song20.txt']"
      ]
     },
     "execution_count": 3,
     "metadata": {},
     "output_type": "execute_result"
    }
   ],
   "source": [
    "song_number = list(np.arange(1,21,1))\n",
    "filenames = [f\"\"\"song{i}.txt\"\"\" for i in song_number]\n",
    "filenames"
   ]
  },
  {
   "cell_type": "markdown",
   "metadata": {},
   "source": [
    "Next, let's import a single song to see what our text looks like so that we can make sure we clean and tokenize it correctly. \n",
    "\n",
    "In the cell below, read in and print out the lyrics from `song11.txt`.  Use vanilla python, no pandas needed.  "
   ]
  },
  {
   "cell_type": "code",
   "execution_count": 39,
   "metadata": {},
   "outputs": [
    {
     "name": "stdout",
     "output_type": "stream",
     "text": [
      "['[Kendrick Lamar:]\\n', \"Love, let's talk about love\\n\", 'Is it anything and everything you hoped for?\\n', 'Or do the feeling haunt you?\\n', 'I know the feeling haunt you\\n', '[SZA:]\\n', 'This may be the night that my dreams might let me know\\n', 'All the stars approach you, all the stars approach you, all the stars approach you\\n', 'This may be the night that my dreams might let me know\\n', 'All the stars are closer, all the stars are closer, all the stars are closer\\n', '[Kendrick Lamar:]\\n', \"Tell me what you gon' do to me\\n\", \"Confrontation ain't nothin' new to me\\n\", 'You can bring a bullet, bring a sword, bring a morgue\\n', \"But you can't bring the truth to me\\n\", 'Fuck you and all your expectations\\n', \"I don't even want your congratulations\\n\", 'I recognize your false confidence\\n', 'And calculated promises all in your conversation\\n', 'I hate people that feel entitled\\n', \"Look at me crazy 'cause I ain't invite you\\n\", 'Oh, you important?\\n', \"You the moral to the story? You endorsin'?\\n\", \"Motherfucker, I don't even like you\\n\", \"Corrupt a man's heart with a gift\\n\", \"That's how you find out who you dealin' with\\n\", \"A small percentage who I'm buildin' with\\n\", \"I want the credit if I'm losin' or I'm winnin'\\n\", \"On my momma, that's the realest shit\\n\", \"Love, let's talk about love\\n\", 'Is it anything and everything you hoped for?\\n', 'Or do the feeling haunt you?\\n', 'I know the feeling haunt you\\n', '[SZA:]\\n', 'This may be the night that my dreams might let me know\\n', 'All the stars approach you, all the stars approach you, all the stars approach you\\n', 'This may be the night that my dreams might let me know\\n', 'All the stars are closer, all the stars are closer, all the stars are closer\\n', 'Skin covered in ego\\n', \"Get to talkin' like ya involved, like a rebound\\n\", 'Got no end game, got no reason\\n', \"Got to stay down, it's the way that you making me feel\\n\", 'Like nobody ever loved me like you do, you do\\n', \"You kinda feeling like you're tryna get away from me\\n\", \"If you do, I won't move\\n\", \"I ain't just cryin' for no reason\\n\", \"I ain't just prayin' for no reason\\n\", 'I give thanks for the days, for the hours\\n', \"And another way, another life breathin'\\n\", \"I did it all 'cause it feel good\\n\", \"I wouldn't do it at all if it feel bad\\n\", \"Better live your life, we're runnin' out of time\\n\", '[Kendrick Lamar & SZA:]\\n', \"Love, let's talk about love\\n\", 'Is it anything and everything you hoped for?\\n', 'Or do the feeling haunt you?\\n', 'I know the feeling haunt you\\n', '[SZA:]\\n', 'This may be the night that my dreams might let me know\\n', 'All the stars approach you, all the stars approach you, all the stars approach you\\n', 'This may be the night that my dreams might let me know\\n', 'All the stars are closer, all the stars are closer, all the stars are closer\\n']\n"
     ]
    }
   ],
   "source": [
    "# read in song11.txt here\n",
    "song11 = open('data/song11.txt','r').readlines()\n",
    "print(song11)\n"
   ]
  },
  {
   "cell_type": "markdown",
   "metadata": {},
   "source": [
    "### Tokenizing our Data\n",
    "\n",
    "Before we can create a Bag of Words or vectorize each document, we need to clean it up and split each song into an array of individual words.  Computers are very particular about strings. If we tokenized our data in it's current state, we would run into the following problems:\n",
    "\n",
    "1. Counting things that aren't actually words.  In the example above, `\"[Kendrick]\"` is a note specifying who is speaking, not a lyric contained in the actual song, so it should be removed.  \n",
    "1. Punctuation and capitalization would mess up our word counts.  To the python interpreter, `love`, `Love`, `Love?`, and `Love\\n` are all unique words, and would all be counted separately.  We need to remove punctuation and capitalization, so that all words will be counted correctly. \n",
    "\n",
    "Consider the following sentences from the example above:\n",
    "\n",
    "`\"Love, let's talk about love\\n\", 'Is it anything and everything you hoped for?\\n'`\n",
    "\n",
    "After tokenization, this should look like:\n",
    "\n",
    "`['love', 'let's', 'talk', 'about', 'love', 'is', 'it', 'anything', 'and', 'everything', 'you', 'hoped', 'for']`\n",
    "\n",
    "Tokenization is pretty tedious if we handle it manually, and would probably make use of Regular Expressions, which is outside the scope of this lab.  In order to keep this lab moving, we'll use a library function to clean and tokenize our data so that we can move onto vectorization.  \n",
    "\n",
    "Tokenization is a required task for just about any Natural Language Processing (NLP) task, so great industry-standard tools exist to tokenize things for us, so that we can spend our time on more important tasks without getting bogged down hunting every special symbol or punctuation in a massive dataset. For this lab, we'll make use of the tokenizer in the amazing `nltk` library, which is short for _Natural Language Tool Kit_.\n",
    "\n",
    "**_NOTE:_** NLTK requires extra installation methods to be run the first time certain methods are used.  If `nltk` throws you an error about needing to install additional packages, follow the instructions in the error message to install the dependencies, and then rerun the cell.  \n",
    "\n",
    "> In this case, you may need to run the following code:\n",
    "``` python\n",
    "import nltk\n",
    "nltk.download('punkt')\n",
    "``` \n",
    "> to download the Punkt sentence tokenizer.\n",
    "\n",
    "Before we tokenize our songs, we'll do only a small manual bit of cleaning.  In the cell below, write a function that allows us to remove lines that have `['artist names']` in it, to ensure that our song files contain only lyrics that are actually in the song. For the lines that remain, make every word lowercase, remove newline characters `\\n`, and any of the following punctuation marks: `\",.'?!\"`\n",
    "\n",
    "Test the function on `test_song` to show that it has successfully removed `'[Kendrick Lamar:]'` and other instances of artist names from the song and returned it.  "
   ]
  },
  {
   "cell_type": "code",
   "execution_count": 60,
   "metadata": {},
   "outputs": [
    {
     "name": "stdout",
     "output_type": "stream",
     "text": [
      "['love lets talk about love', 'is it anything and everything you hoped for', 'or do the feeling haunt you', 'i know the feeling haunt you', 'this may be the night that my dreams might let me know', 'all the stars approach you all the stars approach you all the stars approach you', 'this may be the night that my dreams might let me know', 'all the stars are closer all the stars are closer all the stars are closer', 'tell me what you gon do to me', 'confrontation aint nothin new to me', 'you can bring a bullet bring a sword bring a morgue', 'but you cant bring the truth to me', 'fuck you and all your expectations', 'i dont even want your congratulations', 'i recognize your false confidence', 'and calculated promises all in your conversation', 'i hate people that feel entitled', 'look at me crazy cause i aint invite you', 'oh you important', 'you the moral to the story you endorsin', 'motherfucker i dont even like you', 'corrupt a mans heart with a gift', 'thats how you find out who you dealin with', 'a small percentage who im buildin with', 'i want the credit if im losin or im winnin', 'on my momma thats the realest shit', 'love lets talk about love', 'is it anything and everything you hoped for', 'or do the feeling haunt you', 'i know the feeling haunt you', 'this may be the night that my dreams might let me know', 'all the stars approach you all the stars approach you all the stars approach you', 'this may be the night that my dreams might let me know', 'all the stars are closer all the stars are closer all the stars are closer', 'skin covered in ego', 'get to talkin like ya involved like a rebound', 'got no end game got no reason', 'got to stay down its the way that you making me feel', 'like nobody ever loved me like you do you do', 'you kinda feeling like youre tryna get away from me', 'if you do i wont move', 'i aint just cryin for no reason', 'i aint just prayin for no reason', 'i give thanks for the days for the hours', 'and another way another life breathin', 'i did it all cause it feel good', 'i wouldnt do it at all if it feel bad', 'better live your life were runnin out of time', 'love lets talk about love', 'is it anything and everything you hoped for', 'or do the feeling haunt you', 'i know the feeling haunt you', 'this may be the night that my dreams might let me know', 'all the stars approach you all the stars approach you all the stars approach you', 'this may be the night that my dreams might let me know', 'all the stars are closer all the stars are closer all the stars are closer']\n"
     ]
    }
   ],
   "source": [
    "def clean_song(song):\n",
    "    cleaned_song = []\n",
    "    for line in song:\n",
    "        if not '[' in line and  not ']' in line:\n",
    "            for symbol in \",.?!''\\n\":\n",
    "                line = line.replace(symbol, '').lower()\n",
    "            cleaned_song.append(line)\n",
    "\n",
    "    return cleaned_song\n",
    "        \n",
    "        \n",
    "\n",
    "song_without_brackets = clean_song(song11)\n",
    "song_without_brackets\n",
    "\n",
    "print(song_without_brackets)\n"
   ]
  },
  {
   "cell_type": "markdown",
   "metadata": {},
   "source": [
    "Great. Now, write a function that takes in songs that have had their brackets removed, joins all of the lines into a single string, and then uses `tokenize()` on it to get a fully tokenized version of the song.  Test this funtion on `song_without_brackets` to ensure that the function works. "
   ]
  },
  {
   "cell_type": "code",
   "execution_count": 61,
   "metadata": {},
   "outputs": [
    {
     "data": {
      "text/plain": [
       "['love',\n",
       " 'lets',\n",
       " 'talk',\n",
       " 'about',\n",
       " 'love',\n",
       " 'is',\n",
       " 'it',\n",
       " 'anything',\n",
       " 'and',\n",
       " 'everything']"
      ]
     },
     "execution_count": 61,
     "metadata": {},
     "output_type": "execute_result"
    }
   ],
   "source": [
    "def tokenize(song):\n",
    "    \n",
    "    song_words = []\n",
    "    \n",
    "    for line in song:\n",
    "        split_line = line.split()\n",
    "        song_words.extend(split_line)\n",
    "    \n",
    "    return song_words\n",
    "\n",
    "tokenized_test_song = tokenize(song_without_brackets)\n",
    "tokenized_test_song[:10]"
   ]
  },
  {
   "cell_type": "markdown",
   "metadata": {},
   "source": [
    "Great! Now that we know the ability to tokenize our songs, we can move onto Vectorization. \n",
    "\n",
    "### Count Vectorization\n",
    "\n",
    "Machine Learning algorithms don't understand strings.  However, they do understand math, which means they understand vectors and matrices.  By **_Vectorizing_** the text, we just convert the entire text into a vector, where each element in the vector represents a different word.  The vector is the length of the entire vocabulary--usually, every word that occurs in the English language, or at least every word that appears in our corpus.  Any given sentence can then be represented as a vector where all the vector is 1 (or some other value) for each time that word appears in the sentence. \n",
    "\n",
    "Consider the following example: \n",
    "\n",
    "<center>\"I scream, you scream, we all scream for ice cream.\"</center>\n",
    "\n",
    "| 'aardvark' | 'apple' | [...] | 'I' | 'you' | 'scream' | 'we' | 'all' | 'for' | 'ice' | 'cream' | [...] | 'xylophone' | 'zebra' |\n",
    "|:----------:|:-------:|:-----:|:---:|:-----:|:--------:|:----:|:-----:|:-----:|:-----:|:-------:|:-----:|:-----------:|:-------:|\n",
    "|      0     |    0    |   0   |  1  |   1   |     3    |   1  |   1   |   1   |   1   |    1    |   0   |      0      |    0    |\n",
    "\n",
    "This is called a **_Sparse Representation_**, since the strong majority of the columns will have a value of 0.  Note that elements corresponding to words that do not occur in the sentence have a value of 0, while words that do appear in the sentence have a value of 1 (or 1 for each time it appears in the sentence).\n",
    "\n",
    "Alternatively, we can represent this sentence as a plain old python dictionary of word frequency counts:\n",
    "\n",
    "```python\n",
    "BoW = {\n",
    "    'I':1,\n",
    "    'you':1,\n",
    "    'scream':3,\n",
    "    'we':1,\n",
    "    'all':1,\n",
    "    'for':1,\n",
    "    'ice':1,\n",
    "    'cream':1\n",
    "}\n",
    "```\n",
    "\n",
    "Both of these are examples of **_Count Vectorization_**. They allow us to represent a sentence as a vector, with each element in the vector corresponding to how many times that word is used.\n",
    "\n",
    "#### Positional Information and Bag of Words\n",
    "\n",
    "Notice that when we vectorize a sentence this way, we lose the order that the words were in.  This is the **_Bag of Words_** approach mentioned earlier.  Note that sentences that contain the same words will create the same vectors, even if they mean different things--e.g. `'cats are scared of dogs'` and `'dogs are scared of cats'` would both produce the exact same vector, since they contain the same words.  \n",
    "\n",
    "In the cell below, create a function that takes in a tokenized, cleaned song and returns a Count Vectorized representation of it as a python dictionary. Add in an optional parameter called `vocab` that defaults to `None`. This way, if we are using a vocabulary that contains words not seen in the song, we can still use this function by passing it in to the `vocab` parameter. \n",
    "\n",
    "**_Hint:_**  Consider using a `set` object to make this easier!"
   ]
  },
  {
   "cell_type": "code",
   "execution_count": 62,
   "metadata": {},
   "outputs": [
    {
     "name": "stdout",
     "output_type": "stream",
     "text": [
      "{'youre': 1, 'are': 9, 'stars': 18, 'no': 4, 'promises': 1, 'winnin': 1, 'ego': 1, 'conversation': 1, 'feel': 4, 'nobody': 1, 'like': 6, 'recognize': 1, 'entitled': 1, 'loved': 1, 'making': 1, 'anything': 3, 'cant': 1, 'life': 2, 'morgue': 1, 'night': 6, 'confrontation': 1, 'new': 1, 'moral': 1, 'hate': 1, 'know': 9, 'me': 14, 'its': 1, 'i': 15, 'how': 1, 'small': 1, 'it': 7, 'got': 3, 'calculated': 1, 'realest': 1, 'ever': 1, 'my': 7, 'or': 4, 'who': 2, 'if': 3, 'time': 1, 'approach': 9, 'mans': 1, 'cause': 2, 'down': 1, 'way': 2, 'everything': 3, 'bring': 4, 'cryin': 1, 'on': 1, 'percentage': 1, 'end': 1, 'from': 1, 'momma': 1, 'might': 6, 'ya': 1, 'better': 1, 'live': 1, 'feeling': 7, 'oh': 1, 'with': 3, 'credit': 1, 'a': 7, 'corrupt': 1, 'what': 1, 'covered': 1, 'runnin': 1, 'do': 8, 'people': 1, 'gift': 1, 'bad': 1, 'love': 6, 'even': 2, 'may': 6, 'dealin': 1, 'tell': 1, 'bullet': 1, 'motherfucker': 1, 'rebound': 1, 'buildin': 1, 'losin': 1, 'dont': 2, 'find': 1, 'wouldnt': 1, 'hoped': 3, 'invite': 1, 'nothin': 1, 'endorsin': 1, 'congratulations': 1, 'skin': 1, 'breathin': 1, 'your': 5, 'aint': 4, 'to': 6, 'is': 3, 'shit': 1, 'thats': 2, 'thanks': 1, 'away': 1, 'in': 2, 'closer': 9, 'for': 7, 'all': 22, 'did': 1, 'crazy': 1, 'heart': 1, 'talkin': 1, 'just': 2, 'you': 34, 'talk': 3, 'want': 2, 'move': 1, 'truth': 1, 'out': 2, 'wont': 1, 'sword': 1, 'lets': 3, 'let': 6, 'of': 1, 'gon': 1, 'fuck': 1, 'the': 38, 'get': 2, 'another': 2, 'stay': 1, 'hours': 1, 'reason': 3, 'prayin': 1, 'can': 1, 'false': 1, 'but': 1, 'tryna': 1, 'and': 6, 'give': 1, 'story': 1, 'expectations': 1, 'at': 2, 'look': 1, 'involved': 1, 'confidence': 1, 'this': 6, 'important': 1, 'good': 1, 'that': 8, 'game': 1, 'dreams': 6, 'im': 3, 'kinda': 1, 'were': 1, 'about': 3, 'haunt': 6, 'days': 1, 'be': 6}\n"
     ]
    }
   ],
   "source": [
    "def count_vectorize(song, vocab=None):\n",
    "    words = set(song)\n",
    "    \n",
    "    bag_of_words = dict((word, 0) for word in words)\n",
    "    \n",
    "    for w in song:\n",
    "        bag_of_words[w] += 1\n",
    "    \n",
    "    return bag_of_words\n",
    "\n",
    "test_vectorized = count_vectorize(tokenized_test_song)\n",
    "print(test_vectorized)\n"
   ]
  },
  {
   "cell_type": "markdown",
   "metadata": {},
   "source": [
    "Great! You've just successfully vectorized your first text document! Now, let's look at a more advanced type of vectorization, TF-IDF!\n",
    "\n",
    "### TF-IDF Vectorization\n",
    "\n",
    "TF-IDF stands for **_Term Frequency, Inverse Document Frequency_**.  This is a more advanced form of vectorization that weights each term in a document by how unique it is to the given document it is contained in, which allows us to summarize the contents of a document using a few key words.  If the word is used often in many other documents, it is not unique, and therefore probably not too useful if we wanted to figure out how this document is unique in relation to other documents.  Conversely, if a word is used many times in a document, but rarely in all the other documents we are considering, then it is likely a good indicator for telling us that this word is important to the document in question.  \n",
    "\n",
    "The formula TF-IDF uses to determine the weights of each term in a document is **_Term Frequency_** multipled by **_Inverse Document Frequency_**, where the formula for Term Frequency is:\n",
    "\n",
    "$$\\large Term\\ Frequency(t) = \\frac{number\\ of\\ times\\ t\\ appears\\ in\\ a\\ document} {total\\ number\\ of\\ terms\\ in\\ the\\ document} $$\n",
    "<br>\n",
    "<br>\n",
    "Complete the following function below to calculate term frequency for every term in a document.  "
   ]
  },
  {
   "cell_type": "code",
   "execution_count": 81,
   "metadata": {},
   "outputs": [
    {
     "name": "stdout",
     "output_type": "stream",
     "text": [
      "['like', 'recognize', 'entitled', 'loved', 'making', 'anything', 'cant', 'life', 'morgue', 'night']\n"
     ]
    }
   ],
   "source": [
    "def term_frequency(BoW_dict):\n",
    "    \n",
    "    \n",
    "    total_terms = sum(BoW_dict.values())\n",
    "    \n",
    "    for key, value in BoW_dict.items():\n",
    "        \n",
    "        BoW_dict[key] = value/total_terms\n",
    "        \n",
    "    return BoW_dict\n",
    "\n",
    "test = term_frequency(test_vectorized)\n",
    "print(list(test)[10:20])"
   ]
  },
  {
   "cell_type": "code",
   "execution_count": 83,
   "metadata": {},
   "outputs": [
    {
     "data": {
      "text/plain": [
       "{'youre': 0.002083333333333335,\n",
       " 'are': 0.018750000000000017,\n",
       " 'stars': 0.03750000000000003,\n",
       " 'no': 0.00833333333333334,\n",
       " 'promises': 0.002083333333333335,\n",
       " 'winnin': 0.002083333333333335,\n",
       " 'ego': 0.002083333333333335,\n",
       " 'conversation': 0.002083333333333335,\n",
       " 'feel': 0.00833333333333334,\n",
       " 'nobody': 0.002083333333333335,\n",
       " 'like': 0.012500000000000011,\n",
       " 'recognize': 0.002083333333333335,\n",
       " 'entitled': 0.002083333333333335,\n",
       " 'loved': 0.002083333333333335,\n",
       " 'making': 0.002083333333333335,\n",
       " 'anything': 0.0062500000000000056,\n",
       " 'cant': 0.002083333333333335,\n",
       " 'life': 0.00416666666666667,\n",
       " 'morgue': 0.002083333333333335,\n",
       " 'night': 0.012500000000000011,\n",
       " 'confrontation': 0.002083333333333335,\n",
       " 'new': 0.002083333333333335,\n",
       " 'moral': 0.002083333333333335,\n",
       " 'hate': 0.002083333333333335,\n",
       " 'know': 0.018750000000000017,\n",
       " 'me': 0.029166666666666688,\n",
       " 'its': 0.002083333333333335,\n",
       " 'i': 0.03125000000000003,\n",
       " 'how': 0.002083333333333335,\n",
       " 'small': 0.002083333333333335,\n",
       " 'it': 0.014583333333333344,\n",
       " 'got': 0.0062500000000000056,\n",
       " 'calculated': 0.002083333333333335,\n",
       " 'realest': 0.002083333333333335,\n",
       " 'ever': 0.002083333333333335,\n",
       " 'my': 0.014583333333333344,\n",
       " 'or': 0.00833333333333334,\n",
       " 'who': 0.00416666666666667,\n",
       " 'if': 0.0062500000000000056,\n",
       " 'time': 0.002083333333333335,\n",
       " 'approach': 0.018750000000000017,\n",
       " 'mans': 0.002083333333333335,\n",
       " 'cause': 0.00416666666666667,\n",
       " 'down': 0.002083333333333335,\n",
       " 'way': 0.00416666666666667,\n",
       " 'everything': 0.0062500000000000056,\n",
       " 'bring': 0.00833333333333334,\n",
       " 'cryin': 0.002083333333333335,\n",
       " 'on': 0.002083333333333335,\n",
       " 'percentage': 0.002083333333333335,\n",
       " 'end': 0.002083333333333335,\n",
       " 'from': 0.002083333333333335,\n",
       " 'momma': 0.002083333333333335,\n",
       " 'might': 0.012500000000000011,\n",
       " 'ya': 0.002083333333333335,\n",
       " 'better': 0.002083333333333335,\n",
       " 'live': 0.002083333333333335,\n",
       " 'feeling': 0.014583333333333344,\n",
       " 'oh': 0.002083333333333335,\n",
       " 'with': 0.0062500000000000056,\n",
       " 'credit': 0.002083333333333335,\n",
       " 'a': 0.014583333333333344,\n",
       " 'corrupt': 0.002083333333333335,\n",
       " 'what': 0.002083333333333335,\n",
       " 'covered': 0.002083333333333335,\n",
       " 'runnin': 0.002083333333333335,\n",
       " 'do': 0.01666666666666668,\n",
       " 'people': 0.002083333333333335,\n",
       " 'gift': 0.002083333333333335,\n",
       " 'bad': 0.002083333333333335,\n",
       " 'love': 0.012500000000000011,\n",
       " 'even': 0.00416666666666667,\n",
       " 'may': 0.012500000000000011,\n",
       " 'dealin': 0.002083333333333335,\n",
       " 'tell': 0.002083333333333335,\n",
       " 'bullet': 0.002083333333333335,\n",
       " 'motherfucker': 0.002083333333333335,\n",
       " 'rebound': 0.002083333333333335,\n",
       " 'buildin': 0.002083333333333335,\n",
       " 'losin': 0.002083333333333335,\n",
       " 'dont': 0.00416666666666667,\n",
       " 'find': 0.002083333333333335,\n",
       " 'wouldnt': 0.002083333333333335,\n",
       " 'hoped': 0.0062500000000000056,\n",
       " 'invite': 0.002083333333333335,\n",
       " 'nothin': 0.002083333333333335,\n",
       " 'endorsin': 0.002083333333333335,\n",
       " 'congratulations': 0.002083333333333335,\n",
       " 'skin': 0.002083333333333335,\n",
       " 'breathin': 0.002083333333333335,\n",
       " 'your': 0.010416666666666673,\n",
       " 'aint': 0.00833333333333334,\n",
       " 'to': 0.012500000000000011,\n",
       " 'is': 0.0062500000000000056,\n",
       " 'shit': 0.002083333333333335,\n",
       " 'thats': 0.00416666666666667,\n",
       " 'thanks': 0.002083333333333335,\n",
       " 'away': 0.002083333333333335,\n",
       " 'in': 0.00416666666666667,\n",
       " 'closer': 0.018750000000000017,\n",
       " 'for': 0.014583333333333344,\n",
       " 'all': 0.045833333333333365,\n",
       " 'did': 0.002083333333333335,\n",
       " 'crazy': 0.002083333333333335,\n",
       " 'heart': 0.002083333333333335,\n",
       " 'talkin': 0.002083333333333335,\n",
       " 'just': 0.00416666666666667,\n",
       " 'you': 0.07083333333333339,\n",
       " 'talk': 0.0062500000000000056,\n",
       " 'want': 0.00416666666666667,\n",
       " 'move': 0.002083333333333335,\n",
       " 'truth': 0.002083333333333335,\n",
       " 'out': 0.00416666666666667,\n",
       " 'wont': 0.002083333333333335,\n",
       " 'sword': 0.002083333333333335,\n",
       " 'lets': 0.0062500000000000056,\n",
       " 'let': 0.012500000000000011,\n",
       " 'of': 0.002083333333333335,\n",
       " 'gon': 0.002083333333333335,\n",
       " 'fuck': 0.002083333333333335,\n",
       " 'the': 0.07916666666666672,\n",
       " 'get': 0.00416666666666667,\n",
       " 'another': 0.00416666666666667,\n",
       " 'stay': 0.002083333333333335,\n",
       " 'hours': 0.002083333333333335,\n",
       " 'reason': 0.0062500000000000056,\n",
       " 'prayin': 0.002083333333333335,\n",
       " 'can': 0.002083333333333335,\n",
       " 'false': 0.002083333333333335,\n",
       " 'but': 0.002083333333333335,\n",
       " 'tryna': 0.002083333333333335,\n",
       " 'and': 0.012500000000000011,\n",
       " 'give': 0.002083333333333335,\n",
       " 'story': 0.002083333333333335,\n",
       " 'expectations': 0.002083333333333335,\n",
       " 'at': 0.00416666666666667,\n",
       " 'look': 0.002083333333333335,\n",
       " 'involved': 0.002083333333333335,\n",
       " 'confidence': 0.002083333333333335,\n",
       " 'this': 0.012500000000000011,\n",
       " 'important': 0.002083333333333335,\n",
       " 'good': 0.002083333333333335,\n",
       " 'that': 0.01666666666666668,\n",
       " 'game': 0.002083333333333335,\n",
       " 'dreams': 0.012500000000000011,\n",
       " 'im': 0.0062500000000000056,\n",
       " 'kinda': 0.002083333333333335,\n",
       " 'were': 0.002083333333333335,\n",
       " 'about': 0.0062500000000000056,\n",
       " 'haunt': 0.012500000000000011,\n",
       " 'days': 0.002083333333333335,\n",
       " 'be': 0.012500000000000011}"
      ]
     },
     "execution_count": 83,
     "metadata": {},
     "output_type": "execute_result"
    }
   ],
   "source": [
    "test"
   ]
  },
  {
   "cell_type": "markdown",
   "metadata": {},
   "source": [
    "The formula for Inverse Document Frequency is:  \n",
    "<br>  \n",
    "<br>\n",
    "$$\\large  IDF(t) =  log_e(\\frac{Total\\ Number\\ of\\ Documents}{Number\\ of\\ Documents\\ with\\ t\\ in\\ it})$$\n",
    "\n",
    "Now that we have this, we can easily calculate _Inverse Document Frequency_.  In the cell below, complete the following function.  this function should take in the list of dictionaries, with each item in the list being a Bag of Words representing the words in a different song. The function should return a dictionary containing the inverse document frequency values for each word.  "
   ]
  },
  {
   "cell_type": "code",
   "execution_count": 96,
   "metadata": {},
   "outputs": [],
   "source": [
    "def inverse_document_frequency(list_of_dicts):\n",
    "    \n",
    "    IDF = {}\n",
    "    \n",
    "    for bag in list_of_dicts:\n",
    "        \n",
    "        term_freq = term_frequency(bag)\n",
    "        \n",
    "        for word, val in term_freq.items():\n",
    "            \n",
    "            if word in IDF.keys():\n",
    "                IDF[word] += 1\n",
    "            else:\n",
    "                IDF[word] = 1\n",
    "                \n",
    "    for key, val in IDF.items():\n",
    "        IDF[key] = np.log((len(list_of_dicts)/IDF[key]))\n",
    "        \n",
    "    \n",
    "    return IDF\n",
    "    \n"
   ]
  },
  {
   "cell_type": "markdown",
   "metadata": {},
   "source": [
    "### Computing TF-IDF\n",
    "\n",
    "Now that we can compute both Term Frequency and Inverse Document Frequency, computing an overall TF-IDF value is simple! All we need to do is multiply the two values.  \n",
    "\n",
    "In the cell below, complete the `tf_idf()` function.  This function should take in a list of dictionaries, just as the `inverse_document_frequency()` function did.  This function return a new list of dictionaries, with each dictionary containing the tf-idf vectorized representation of a corresponding song document. \n",
    "\n",
    "**_NOTE:_** Each document should contain the full vocabulary of the entire combined corpus.  "
   ]
  },
  {
   "cell_type": "code",
   "execution_count": 141,
   "metadata": {},
   "outputs": [],
   "source": [
    "def tf_idf(list_of_dicts):\n",
    "    # Create empty dictionary containing full vocabulary of entire corpus\n",
    "    doc_tf_idf = {}\n",
    "    idf = inverse_document_frequency(list_of_dicts)\n",
    "    full_vocab_list = {i:0 for i in list(idf.keys())}\n",
    "    \n",
    "    # Create tf-idf list of dictionaries, containing a dictionary that will be updated for each document\n",
    "    tf_idf_list_of_dicts = []\n",
    "    \n",
    "    # Now, compute tf and then use this to compute and set tf-idf values for each document\n",
    "    for doc in list_of_dicts:\n",
    "        doc_tf = term_frequency(doc)\n",
    "        for word in doc_tf:\n",
    "            doc_tf_idf[word] = doc_tf[word] * idf[word]\n",
    "        tf_idf_list_of_dicts.append(doc_tf_idf)\n",
    "    \n",
    "    return tf_idf_list_of_dicts"
   ]
  },
  {
   "cell_type": "markdown",
   "metadata": {},
   "source": [
    "### Vectorizing All Documents\n",
    "\n",
    "Now that we've created all the necessary helper functions, we can load in all of our documents and run each through the vectorization pipeline we've just created.\n",
    "\n",
    "In the cell below, complete the `main` function.  This function should take in a list of file names (provided for you in the `filenames` list we created at the start), and then:\n",
    "\n",
    "1. Read in each document\n",
    "1. Tokenize each document\n",
    "1. Convert each document to a Bag of Words (dictionary representation)\n",
    "1. Return a list of dictionaries vectorized using tf-idf, where each dictionary is a vectorized representation of a document.  \n",
    "\n",
    "**_HINT:_** Remember that all files are stored in the `data/` directory.  Be sure to append this to the filename when reading in each file, otherwise the path won't be correct!"
   ]
  },
  {
   "cell_type": "code",
   "execution_count": 134,
   "metadata": {},
   "outputs": [
    {
     "name": "stdout",
     "output_type": "stream",
     "text": [
      "['where', 'fourteen', 'could', 'underlined', 'cross', 'enshrined', 'hold', 'vincent', 'new', 'night']\n"
     ]
    }
   ],
   "source": [
    "def main(filenames):\n",
    "    \n",
    "    BoWs = []\n",
    "    \n",
    "    for file in filenames:\n",
    "        \n",
    "        song = open(f\"\"\"data/{file}\"\"\",'r').readlines()\n",
    "        \n",
    "        clean = clean_song(song)\n",
    "        tokenized = tokenize(clean)\n",
    "        vector = count_vectorize(tokenized)\n",
    "        BoWs.append(vector)\n",
    "    \n",
    "    TFIDFs = tf_idf(BoWs)\n",
    "    \n",
    "    return TFIDFs\n",
    "\n",
    "\n",
    "tf_idf_all_docs = main(filenames)\n",
    "print(list(tf_idf_all_docs[0])[:10])"
   ]
  },
  {
   "cell_type": "markdown",
   "metadata": {},
   "source": [
    "### Visualizing our Vectorizations\n",
    "\n",
    "Now that we have a tf-idf representation each document, we can move on to the fun part--visualizing everything!\n",
    "\n",
    "Let's investigate how many dimensions our data currently has.  In the cell below, examine our dataset to figure out how many dimensions our dataset has. \n",
    "\n",
    "**_HINT_**: Remember that every word is it's own dimension!"
   ]
  },
  {
   "cell_type": "code",
   "execution_count": 135,
   "metadata": {},
   "outputs": [
    {
     "name": "stdout",
     "output_type": "stream",
     "text": [
      "Number of Dimensions: 1423\n"
     ]
    }
   ],
   "source": [
    "num_dims = len(tf_idf_all_docs[0])\n",
    "print(\"Number of Dimensions: {}\".format(num_dims))"
   ]
  },
  {
   "cell_type": "code",
   "execution_count": 136,
   "metadata": {},
   "outputs": [
    {
     "data": {
      "text/plain": [
       "28460"
      ]
     },
     "execution_count": 136,
     "metadata": {},
     "output_type": "execute_result"
    }
   ],
   "source": [
    "num = 0\n",
    "\n",
    "for i in tf_idf_all_docs:\n",
    "    num += len(i)\n",
    "\n",
    "num"
   ]
  },
  {
   "cell_type": "markdown",
   "metadata": {},
   "source": [
    "That's much too high-dimensional for us to visualize! In order to make it understandable to human eyes, we'll need to reduce dimensionality to 2 or 3 dimensions.  \n",
    "\n",
    "### Reducing Dimensionality\n",
    "\n",
    "To do this, we'll use a technique called **_t-SNE_** (short for _t-Stochastic Neighbors Embedding_).  This is too complex for us to code ourselves, so we'll make use of sklearn's implementation of it.  \n",
    "\n",
    "First, we need to pull the words out of the dictionaries stored in `tf_idf_all_docs` so that only the values remain, and store them in lists instead of dictionaries.  This is because the t-SNE object only works with Array-like objects, not dictionaries.  \n",
    "\n",
    "In the cell below, create a list of lists that contains a list representation of the values of each of the dictionaries stored in `tf_idf_all_docs`.  The same structure should remain--e.g. the first list should contain only the values that were in the 1st dictionary in `tf_idf_all_docs`, and so on. "
   ]
  },
  {
   "cell_type": "code",
   "execution_count": 137,
   "metadata": {},
   "outputs": [
    {
     "data": {
      "text/plain": [
       "[0.0077625622786210826,\n",
       " 0.009133330102298746,\n",
       " 0.007971092373470098,\n",
       " 0.009133330102298746,\n",
       " 0.009133330102298746,\n",
       " 0.009133330102298746,\n",
       " 0.009947082277095766,\n",
       " 0.009133330102298746,\n",
       " 0.003952333301845591,\n",
       " 0.06532277094282209]"
      ]
     },
     "execution_count": 137,
     "metadata": {},
     "output_type": "execute_result"
    }
   ],
   "source": [
    "tf_idf_vals_list = []\n",
    "\n",
    "for i in tf_idf_all_docs:\n",
    "    tf_idf_vals_list.append(list(i.values()))\n",
    "    \n",
    "tf_idf_vals_list[0][:10]"
   ]
  },
  {
   "cell_type": "markdown",
   "metadata": {},
   "source": [
    "Now that we have only the values, we can use the `TSNE` object from `sklearn` to transform our data appropriately.  In the cell below, create a `TSNE` with `n_components=3` passed in as a parameter.  Then, use the created object's `fit_transform()` method to transform the data stored in `tf_idf_vals_list` into 3-dimensional data.  Then, inspect the newly transformed data to confirm that it has the correct dimensionality. "
   ]
  },
  {
   "cell_type": "code",
   "execution_count": 138,
   "metadata": {},
   "outputs": [
    {
     "data": {
      "text/plain": [
       "array([[  286.16177  ,   -59.58003  ,   -29.239813 ],\n",
       "       [  -40.201584 ,   -39.589897 ,    66.186844 ],\n",
       "       [ -271.4444   ,    13.358598 ,   -36.58289  ],\n",
       "       [  101.52871  ,  -232.72644  ,   -18.761038 ],\n",
       "       [  -11.436164 ,    93.62311  ,  -527.77264  ],\n",
       "       [   62.59882  ,  -262.92575  ,   195.72424  ],\n",
       "       [  179.31833  ,   163.6568   ,    99.668884 ],\n",
       "       [  -60.376583 ,   112.634056 ,  -120.040215 ],\n",
       "       [ -106.81332  ,   334.22797  ,   -61.17798  ],\n",
       "       [  -82.26515  ,    29.888157 ,   300.85544  ],\n",
       "       [  186.27754  ,   392.79953  ,   -12.752728 ],\n",
       "       [ -235.17233  ,   299.3838   ,  1120.3702   ],\n",
       "       [ -184.85771  ,  -231.17212  ,    12.208055 ],\n",
       "       [ -106.20318  ,  -219.26907  ,   348.39722  ],\n",
       "       [  102.775795 ,    -3.0911877,  -224.8112   ],\n",
       "       [  243.48392  ,   174.41599  ,  -148.44667  ],\n",
       "       [   34.665466 ,  -226.07448  ,  -240.61783  ],\n",
       "       [  -55.70587  ,   215.24796  ,   150.87192  ],\n",
       "       [  272.90112  ,  -523.6656   , -1032.2894   ],\n",
       "       [  184.42444  ,   -48.457497 ,   212.6427   ]], dtype=float32)"
      ]
     },
     "execution_count": 138,
     "metadata": {},
     "output_type": "execute_result"
    }
   ],
   "source": [
    "t_sne_object_3d = TSNE(n_components=3)\n",
    "transformed_data_3d = t_sne_object_3d.fit_transform(tf_idf_vals_list)\n",
    "transformed_data_3d"
   ]
  },
  {
   "cell_type": "markdown",
   "metadata": {},
   "source": [
    "We'll also want to check out how the visualization looks in 2d.  Repeat the process above, but this time, create a `TSNE` object with 2 components instead of 3.  Again, use `fit_transform()` to transform the data and store it in the variable below, and then inspect it to confirm the transformed data has only 2 dimensions. "
   ]
  },
  {
   "cell_type": "code",
   "execution_count": 139,
   "metadata": {},
   "outputs": [
    {
     "data": {
      "text/plain": [
       "array([[ 71.96787  , -41.784054 ],\n",
       "       [ -4.1000934, -43.133614 ],\n",
       "       [  5.059699 ,  -8.364142 ],\n",
       "       [ 37.202377 , -22.40048  ],\n",
       "       [-68.97919  ,  58.661045 ],\n",
       "       [-10.6544075, -82.95431  ],\n",
       "       [ 10.406382 ,  47.734627 ],\n",
       "       [-14.855456 ,  87.8524   ],\n",
       "       [-32.68643  , -17.345469 ],\n",
       "       [ 73.29709  ,   4.67946  ],\n",
       "       [-73.207466 , -25.624289 ],\n",
       "       [-13.193384 ,  19.474522 ],\n",
       "       [ 32.172848 ,  80.596985 ],\n",
       "       [-89.40849  ,  15.1263895],\n",
       "       [-47.461216 , -58.29835  ],\n",
       "       [ 32.769257 ,  17.828482 ],\n",
       "       [ 61.894157 ,  47.31395  ],\n",
       "       [-30.216974 ,  51.846035 ],\n",
       "       [-49.99076  ,  15.525965 ],\n",
       "       [ 32.044914 , -65.25539  ]], dtype=float32)"
      ]
     },
     "execution_count": 139,
     "metadata": {},
     "output_type": "execute_result"
    }
   ],
   "source": [
    "t_sne_object_2d = TSNE(n_components=2)\n",
    "transformed_data_2d = t_sne_object_2d.fit_transform(tf_idf_vals_list)\n",
    "transformed_data_2d"
   ]
  },
  {
   "cell_type": "markdown",
   "metadata": {},
   "source": [
    "Now, let's visualize everything!  Run the cell below to a 3D visualization of the songs."
   ]
  },
  {
   "cell_type": "code",
   "execution_count": 140,
   "metadata": {},
   "outputs": [
    {
     "data": {
      "image/png": "[encoded data removed]",
      "text/plain": [
       "<Figure size 1440x720 with 1 Axes>"
      ]
     },
     "metadata": {
      "needs_background": "light"
     },
     "output_type": "display_data"
    },
    {
     "data": {
      "image/png": "[encoded data removed]",
      "text/plain": [
       "<Figure size 1440x720 with 1 Axes>"
      ]
     },
     "metadata": {
      "needs_background": "light"
     },
     "output_type": "display_data"
    }
   ],
   "source": [
    "kendrick_3d = transformed_data_3d[:10]\n",
    "k3_x = [i[0] for i in kendrick_3d]\n",
    "k3_y = [i[1] for i in kendrick_3d]\n",
    "k3_z = [i[2] for i in kendrick_3d]\n",
    "\n",
    "garth_3d = transformed_data_3d[10:]\n",
    "g3_x = [i[0] for i in garth_3d]\n",
    "g3_y = [i[1] for i in garth_3d]\n",
    "g3_z = [i[2] for i in garth_3d]\n",
    "\n",
    "fig = plt.figure(figsize=(20,10))\n",
    "ax = fig.add_subplot(111, projection='3d')\n",
    "ax.scatter(k3_x, k3_y, k3_z, c='b', s=60, label='Kendrick')\n",
    "ax.scatter(g3_x, g3_y, g3_z, c='red', s=60, label='Garth')\n",
    "ax.view_init(30, 10)\n",
    "ax.legend()\n",
    "plt.show()\n",
    "\n",
    "kendrick_2d = transformed_data_2d[:10]\n",
    "k2_x = [i[0] for i in kendrick_2d]\n",
    "k2_y = [i[1] for i in kendrick_2d]\n",
    "\n",
    "garth_2d = transformed_data_2d[10:]\n",
    "g2_x = [i[0] for i in garth_2d]\n",
    "g2_y = [i[1] for i in garth_2d]\n",
    "\n",
    "fig = plt.figure(figsize=(20,10))\n",
    "ax = fig.add_subplot(222)\n",
    "ax.scatter(k2_x, k2_y, c='b', label='Kendrick')\n",
    "ax.scatter(g2_x, g2_y, c='red', label='Garth')\n",
    "ax.legend()\n",
    "plt.show()"
   ]
  },
  {
   "cell_type": "markdown",
   "metadata": {},
   "source": [
    "Interesting! Take a crack at interpreting these graphs by answering the following question below:\n",
    "\n",
    "What does each graph mean? Do you find one graph more informative than the other? Do you think that this method shows us discernable differences between Kendrick Lamar songs and Garth Brooks songs?  Use the graphs and your understanding of TF-IDF to support your answer.  \n",
    "\n",
    "Write your answer to this question below:  "
   ]
  },
  {
   "cell_type": "code",
   "execution_count": null,
   "metadata": {},
   "outputs": [],
   "source": [
    "# Your Written Answer Here"
   ]
  },
  {
   "cell_type": "markdown",
   "metadata": {},
   "source": [
    "### Conclusion\n",
    "\n",
    "In this lab, we learned how to: \n",
    "* Tokenize a corpus of words and identify the different choices to be made while parsing them. \n",
    "* Use a Count Vectorization strategy to create a Bag of Words\n",
    "* Use TF-IDF Vectorization with multiple documents to identify words that are important/unique to certain documents. \n",
    "* Visualize and compare vectorized text documents."
   ]
  }
 ],
 "metadata": {
  "kernelspec": {
   "display_name": "Python 3",
   "language": "python",
   "name": "python3"
  },
  "language_info": {
   "codemirror_mode": {
    "name": "ipython",
    "version": 3
   },
   "file_extension": ".py",
   "mimetype": "text/x-python",
   "name": "python",
   "nbconvert_exporter": "python",
   "pygments_lexer": "ipython3",
   "version": "3.7.3"
  },
  "nbdime-conflicts": {
   "local_diff": [
    {
     "key": "language_info",
     "op": "remove"
    }
   ],
   "remote_diff": [
    {
     "diff": [
      {
       "diff": [
        {
         "key": 0,
         "op": "addrange",
         "valuelist": [
          "3.7.3"
         ]
        },
        {
         "key": 0,
         "length": 1,
         "op": "removerange"
        }
       ],
       "key": "version",
       "op": "patch"
      }
     ],
     "key": "language_info",
     "op": "patch"
    }
   ]
  },
  "toc": {
   "base_numbering": 1,
   "nav_menu": {},
   "number_sections": true,
   "sideBar": true,
   "skip_h1_title": false,
   "title_cell": "Table of Contents",
   "title_sidebar": "Contents",
   "toc_cell": false,
   "toc_position": {},
   "toc_section_display": true,
   "toc_window_display": false
  }
 },
 "nbformat": 4,
 "nbformat_minor": 2
}
